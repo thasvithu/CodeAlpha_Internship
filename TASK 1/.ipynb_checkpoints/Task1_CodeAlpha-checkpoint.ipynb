{
 "cells": [
  {
   "cell_type": "code",
   "execution_count": null,
   "id": "35dafd90",
   "metadata": {},
   "outputs": [],
   "source": [
    "import numpy as np\n",
    "import pandas as pd\n",
    "import matplotlib.pyplot as plt\n",
    "import seaborn as sns\n",
    "from sklearn.model_selection import train_test_split\n",
    "from sklearn.linear_model import LogisticRegression\n",
    "from sklearn.metrics import accuracy_score"
   ]
  },
  {
   "cell_type": "markdown",
   "id": "3cb77531",
   "metadata": {},
   "source": [
    "## Data Collection and Processing"
   ]
  },
  {
   "cell_type": "code",
   "execution_count": null,
   "id": "634b0e96",
   "metadata": {},
   "outputs": [],
   "source": [
    "# load the data from csv file to Pandas DataFrame\n",
    "titanic_data = pd.read_csv(\"train.csv\")"
   ]
  },
  {
   "cell_type": "code",
   "execution_count": null,
   "id": "b79d48eb",
   "metadata": {},
   "outputs": [],
   "source": [
    "# Printing first five rows of the dataFrame\n",
    "titanic_data.head()"
   ]
  },
  {
   "cell_type": "code",
   "execution_count": null,
   "id": "82ac5b5e",
   "metadata": {},
   "outputs": [],
   "source": [
    "# number of draws and columns\n",
    "titanic_data.shape"
   ]
  },
  {
   "cell_type": "code",
   "execution_count": null,
   "id": "5f1f10ec",
   "metadata": {},
   "outputs": [],
   "source": [
    "# getting some information abouth the data\n",
    "titanic_data.info()"
   ]
  },
  {
   "cell_type": "code",
   "execution_count": null,
   "id": "88ff80f5",
   "metadata": {},
   "outputs": [],
   "source": [
    "# check the number of missing values in each column\n",
    "titanic_data.isnull().sum()"
   ]
  },
  {
   "cell_type": "markdown",
   "id": "67b71875",
   "metadata": {},
   "source": [
    "### Handling the Missing Value"
   ]
  },
  {
   "cell_type": "code",
   "execution_count": null,
   "id": "cfcb80fb",
   "metadata": {},
   "outputs": [],
   "source": [
    "# drop the \"Cabin\" column from the dataFrame\n",
    "titanic_data = titanic_data.drop(columns = \"Cabin\", axis = 1)"
   ]
  },
  {
   "cell_type": "code",
   "execution_count": null,
   "id": "13ce2b9c",
   "metadata": {},
   "outputs": [],
   "source": [
    "# Replacing the missing value in \"Age\" column with mean value\n",
    "titanic_data[\"Age\"].fillna(titanic_data[\"Age\"].mean(), inplace = True)"
   ]
  },
  {
   "cell_type": "code",
   "execution_count": null,
   "id": "87e4dcc8",
   "metadata": {},
   "outputs": [],
   "source": [
    "# finding the mode value of \"Embarked\" column\n",
    "print(titanic_data[\"Embarked\"].mode())"
   ]
  },
  {
   "cell_type": "code",
   "execution_count": null,
   "id": "8c4c6cf0",
   "metadata": {},
   "outputs": [],
   "source": [
    "print(titanic_data[\"Embarked\"].mode()[0])"
   ]
  },
  {
   "cell_type": "code",
   "execution_count": null,
   "id": "7d84e8c5",
   "metadata": {},
   "outputs": [],
   "source": [
    "# replacing the missing value Embarked column with mode value\n",
    "titanic_data[\"Embarked\"].fillna(titanic_data[\"Embarked\"].mode()[0], inplace = True)"
   ]
  },
  {
   "cell_type": "code",
   "execution_count": null,
   "id": "e8ddf6ec",
   "metadata": {},
   "outputs": [],
   "source": [
    "# check the missing value\n",
    "titanic_data.isnull().sum()"
   ]
  },
  {
   "cell_type": "code",
   "execution_count": null,
   "id": "dbed74f2",
   "metadata": {},
   "outputs": [],
   "source": [
    "# ing some statistical measures about the data\n",
    "titanic_data.describe()"
   ]
  },
  {
   "cell_type": "code",
   "execution_count": null,
   "id": "b80dc8a9",
   "metadata": {},
   "outputs": [],
   "source": [
    "# finding the number of people Survived and nor Survived\n",
    "titanic_data[\"Survived\"].value_counts()"
   ]
  },
  {
   "cell_type": "markdown",
   "id": "3d9dc7f9",
   "metadata": {},
   "source": [
    "## Data Visualization"
   ]
  },
  {
   "cell_type": "code",
   "execution_count": null,
   "id": "c1377c60",
   "metadata": {},
   "outputs": [],
   "source": [
    "sns.set()"
   ]
  },
  {
   "cell_type": "code",
   "execution_count": null,
   "id": "69706c44",
   "metadata": {},
   "outputs": [],
   "source": [
    "# making a count plot for \"Survived\" column\n",
    "sns.countplot(x = \"Survived\", data = titanic_data)"
   ]
  },
  {
   "cell_type": "code",
   "execution_count": null,
   "id": "d5a6ad23",
   "metadata": {},
   "outputs": [],
   "source": [
    "titanic_data[\"Sex\"].value_counts()"
   ]
  },
  {
   "cell_type": "code",
   "execution_count": null,
   "id": "52c585ec",
   "metadata": {},
   "outputs": [],
   "source": [
    "# making a count plot for \"Sex\" column\n",
    "sns.countplot(x = \"Sex\", data = titanic_data)"
   ]
  },
  {
   "cell_type": "code",
   "execution_count": null,
   "id": "152b822f",
   "metadata": {},
   "outputs": [],
   "source": [
    "# Number of survors Gender wise\n",
    "sns.countplot(x = \"Sex\", hue = \"Survived\", data = titanic_data)"
   ]
  },
  {
   "cell_type": "code",
   "execution_count": null,
   "id": "6eaf51bd",
   "metadata": {},
   "outputs": [],
   "source": [
    "# making a count plot for \"Pclass\" column\n",
    "sns.countplot(x = \"Pclass\", data = titanic_data)"
   ]
  },
  {
   "cell_type": "code",
   "execution_count": null,
   "id": "91565ac5",
   "metadata": {
    "scrolled": true
   },
   "outputs": [],
   "source": [
    "sns.countplot(x = \"Pclass\", hue = \"Survived\", data = titanic_data)"
   ]
  },
  {
   "cell_type": "markdown",
   "id": "334276c3",
   "metadata": {},
   "source": [
    "#### Encoding the Categorical Columns"
   ]
  },
  {
   "cell_type": "code",
   "execution_count": null,
   "id": "0f3643f3",
   "metadata": {},
   "outputs": [],
   "source": [
    "titanic_data[\"Sex\"].value_counts()"
   ]
  },
  {
   "cell_type": "code",
   "execution_count": null,
   "id": "2aac6003",
   "metadata": {},
   "outputs": [],
   "source": [
    "titanic_data[\"Embarked\"].value_counts()"
   ]
  },
  {
   "cell_type": "code",
   "execution_count": null,
   "id": "611ee086",
   "metadata": {},
   "outputs": [],
   "source": [
    "# Converting categorical columns\n",
    "titanic_data.replace({\"Sex\": {\"male\": 0, \"female\": 1}, \"Embarked\": {\"S\": 0, \"C\": 1, \"Q\": 2}}, inplace=True)"
   ]
  },
  {
   "cell_type": "code",
   "execution_count": null,
   "id": "07ebeb95",
   "metadata": {},
   "outputs": [],
   "source": [
    "titanic_data.head()"
   ]
  },
  {
   "cell_type": "markdown",
   "id": "29374784",
   "metadata": {},
   "source": [
    "#### Sperating features & Target"
   ]
  },
  {
   "cell_type": "code",
   "execution_count": null,
   "id": "e7d3c9f8",
   "metadata": {},
   "outputs": [],
   "source": [
    "X = titanic_data.drop(columns = [\"PassengerId\", \"Name\", \"Ticket\", \"Survived\"], axis = 1)\n",
    "Y = titanic_data[\"Survived\"]"
   ]
  },
  {
   "cell_type": "code",
   "execution_count": null,
   "id": "f154005f",
   "metadata": {},
   "outputs": [],
   "source": [
    "print(X)"
   ]
  },
  {
   "cell_type": "code",
   "execution_count": null,
   "id": "f6e1d0c0",
   "metadata": {},
   "outputs": [],
   "source": [
    "print(Y)"
   ]
  },
  {
   "cell_type": "markdown",
   "id": "1a3d12b7",
   "metadata": {},
   "source": [
    "### Splitting the data into Training & Testing"
   ]
  },
  {
   "cell_type": "markdown",
   "id": "4734519f",
   "metadata": {},
   "source": [
    "X_train, X_test, Y_train, Y_test = train_test_split(X, Y, test_size = 0.2, random_state = 2)"
   ]
  },
  {
   "cell_type": "code",
   "execution_count": null,
   "id": "9390396d",
   "metadata": {},
   "outputs": [],
   "source": [
    "print(X.shape, X_train.shape, X_test.shape)"
   ]
  },
  {
   "cell_type": "markdown",
   "id": "4922403e",
   "metadata": {},
   "source": [
    "### Model Training\n",
    "\n",
    "##### LogisticRegression"
   ]
  },
  {
   "cell_type": "code",
   "execution_count": null,
   "id": "a53820fd",
   "metadata": {},
   "outputs": [],
   "source": [
    "model = LogisticRegression()"
   ]
  },
  {
   "cell_type": "code",
   "execution_count": null,
   "id": "395d045d",
   "metadata": {},
   "outputs": [],
   "source": [
    "# training the LogisticRegression model with training data\n",
    "model.fit(X_train, Y_train)"
   ]
  },
  {
   "cell_type": "markdown",
   "id": "5775de65",
   "metadata": {},
   "source": [
    "#### Model Evaluation\n",
    "##### Accuracy score"
   ]
  },
  {
   "cell_type": "code",
   "execution_count": null,
   "id": "03e07322",
   "metadata": {},
   "outputs": [],
   "source": [
    "# accuracy on trainig data\n",
    "X_train_prediction = model.predict(X_train)"
   ]
  },
  {
   "cell_type": "code",
   "execution_count": null,
   "id": "d1c66102",
   "metadata": {},
   "outputs": [],
   "source": [
    "print(X_train_prediction)"
   ]
  },
  {
   "cell_type": "code",
   "execution_count": null,
   "id": "34d31421",
   "metadata": {},
   "outputs": [],
   "source": [
    "training_data_Accuracy = accuracy_score(Y_train, X_train_prediction)\n",
    "print(\"Accuracy Score of training data: \", training_data_Accuracy)"
   ]
  },
  {
   "cell_type": "code",
   "execution_count": null,
   "id": "b8754564",
   "metadata": {},
   "outputs": [],
   "source": [
    "# accuracy on test data\n",
    "X_test_prediction = model.predict(X_test)"
   ]
  },
  {
   "cell_type": "code",
   "execution_count": null,
   "id": "ca39533f",
   "metadata": {},
   "outputs": [],
   "source": [
    "print(X_test_prediction)"
   ]
  },
  {
   "cell_type": "code",
   "execution_count": null,
   "id": "8babc730",
   "metadata": {},
   "outputs": [],
   "source": [
    "testing_data_Accuracy = accuracy_score(Y_test, X_test_prediction)\n",
    "print(\"Accuracy Score of test data: \", testing_data_Accuracy)"
   ]
  },
  {
   "cell_type": "code",
   "execution_count": null,
   "id": "d6aa3c60",
   "metadata": {},
   "outputs": [],
   "source": [
    "accuracy_df = pd.DataFrame({'Accuracy': [training_data_Accuracy]})\n",
    "\n",
    "# Export the DataFrame to a CSV file\n",
    "accuracy_df.to_csv('training_accuracy.csv', index=False)"
   ]
  }
 ],
 "metadata": {
  "kernelspec": {
   "display_name": "Python 3 (ipykernel)",
   "language": "python",
   "name": "python3"
  },
  "language_info": {
   "codemirror_mode": {
    "name": "ipython",
    "version": 3
   },
   "file_extension": ".py",
   "mimetype": "text/x-python",
   "name": "python",
   "nbconvert_exporter": "python",
   "pygments_lexer": "ipython3",
   "version": "3.11.5"
  }
 },
 "nbformat": 4,
 "nbformat_minor": 5
}
